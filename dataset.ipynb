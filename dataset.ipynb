{
 "cells": [
  {
   "cell_type": "code",
   "execution_count": null,
   "metadata": {},
   "outputs": [],
   "source": [
    "import pandas as pd\n",
    "import numpy as np\n",
    "\n",
    "portfolios = ['Makeup', 'Skin/Body', 'Fragrance']\n",
    "geographies = ['North America', 'Europe', 'South America', 'Asia']\n",
    "categories = {'Makeup': ['Face Makeup', 'Tools'], 'Skin/Body': ['Hair Dye'], 'Fragrance': ['Fragrance']}\n",
    "brands = {\n",
    "    'Makeup': ['Bobbi Brown', 'Aveda', 'Elizabeth Arden'],\n",
    "    'Skin/Body': ['Aveda'],\n",
    "    'Fragrance': ['Kilian', 'Frederic Malle', 'Balmain']\n",
    "}\n",
    "segments = {\n",
    "    'Bobbi Brown': ['Lipstick', 'Mascara', 'Bronzer'],\n",
    "    'Aveda': ['Lipstick', 'Mascara', 'Toner'],\n",
    "    'Elizabeth Arden': ['Bronzer', 'Mascara'],\n",
    "    'Kilian': ['Fragrance'],\n",
    "    'Frederic Malle': ['Fragrance'],\n",
    "    'Balmain': ['Fragrance']\n",
    "}\n",
    "\n",
    "data = []\n",
    "\n",
    "for geo in geographies:\n",
    "    for portfolio in portfolios:\n",
    "        for category in categories[portfolio]:\n",
    "            for brand in brands[portfolio]:\n",
    "                for segment in segments.get(brand, []):\n",
    "                    current_revenue = np.random.randint(500000, 5000000)\n",
    "                    margin = np.random.randint(20, 50)\n",
    "                    min_trend = np.random.randint(-5, 0)\n",
    "                    max_trend = np.random.randint(5, 15)\n",
    "                    min_contribution = np.random.randint(5, 10)\n",
    "                    max_contribution = np.random.randint(10, 25)\n",
    "\n",
    "                    data.append({\n",
    "                        'Geography': geo,\n",
    "                        'Portfolio': portfolio,\n",
    "                        'Category': category,\n",
    "                        'Brand': brand,\n",
    "                        'Segment': segment,\n",
    "                        'Current Revenue': current_revenue,\n",
    "                        'Margin %': margin,\n",
    "                        'Min Trend %': min_trend,\n",
    "                        'Max Trend %': max_trend,\n",
    "                        'Min Contribution %': min_contribution,\n",
    "                        'Max Contribution %': max_contribution\n",
    "                    })\n",
    "\n",
    "df = pd.DataFrame(data)\n",
    "\n",
    "print(df.head())\n",
    "\n",
    "df.to_csv('/mnt/data/Acme_Synthetic_Dataset.csv', index=False)\n"
   ]
  }
 ],
 "metadata": {
  "kernelspec": {
   "display_name": "Python 3",
   "language": "python",
   "name": "python3"
  },
  "language_info": {
   "name": "python",
   "version": "3.10.10"
  }
 },
 "nbformat": 4,
 "nbformat_minor": 2
}
